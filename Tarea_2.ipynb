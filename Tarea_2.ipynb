{
 "cells": [
  {
   "cell_type": "markdown",
   "metadata": {
    "id": "p_XcuC2rXQWb",
    "pycharm": {}
   },
   "source": [
    "# Tarea 2: Clasificación\n",
    "\n",
    "Felipe Bravo, Hernán Sarmiento, Aymé Arango, Alison Fernandez, Cinthia Mabel Sánchez, Juan Pablo Silva\n",
    "\n",
    "**Octubre 2020**"
   ]
  },
  {
   "cell_type": "markdown",
   "metadata": {
    "heading_collapsed": true,
    "id": "RvarrC_jXQWe",
    "pycharm": {}
   },
   "source": [
    "## ============= Declaración de compromiso ético =============\n",
    "\n",
    "Nosotros ****Nicolás Herrera, Sebastián Urbina y Samuel Sánchez,**** , declaramos que realizamos de manera grupal los pasos de la presente actividad. También declaramos no incurrir en copia, ni compartir nuestras respuestas con otras personas ni con otros grupos. Por lo que, ratificamos que las respuestas son de nuestra propia confección y reflejan nuestro propio conocimiento.\n"
   ]
  },
  {
   "cell_type": "markdown",
   "metadata": {
    "heading_collapsed": true,
    "id": "bxEPucKhXQWg",
    "pycharm": {}
   },
   "source": [
    "# Instrucciones\n",
    "\n",
    "\n",
    "1. Trabajen en equipos de dos o tres personas. Salvo excepciones, no se corregirá entregas con menos de dos integrantes.\n",
    "\n",
    "2. Modifique este archivo `.ipynb` agregando sus respuestas donde corresponda. \n",
    "\n",
    "3. Cuando finalice el laboratorio, **genere un archivo HTML** usando jupyter (ver tutorial 2) y súbalo a U-Cursos. El laboratorio debe ser entregado sólo por 1 integrante. Si se entrega por más de un integrante, se revisará cualquiera de éstos."
   ]
  },
  {
   "cell_type": "markdown",
   "metadata": {
    "heading_collapsed": true,
    "id": "SMUzxXj7XQWi",
    "pycharm": {}
   },
   "source": [
    "# Estructura de la tarea\n",
    "\n",
    "Esta tarea está conformada por preguntas prácticas (donde se requiere completar código) intercaladas con preguntas de interpretación de resultados y descripción de conceptos teóricos vistos en clases. Las preguntas se dividen en 5 partes: \n",
    "\n",
    "1. Explorar los datos.\n",
    "2. Entrenar un clasificador de 3 maneras: \n",
    "    1) Entrenando/Testeando con los mismos datos,\n",
    "    2) Dividiendo el dataset en una parte para entrenar y otra para testear, y\n",
    "    3) Usando cross-validation. Veremos accuracy, precision y recall para luego analizar los resultados. \n",
    "3. Comparar clasificadores con ciertos *baselines* o clasificadores base.\n",
    "4. Seleccionar hiperparámetros.\n",
    "5. Trabajar con clases desbalanceadas."
   ]
  },
  {
   "cell_type": "markdown",
   "metadata": {
    "heading_collapsed": true,
    "id": "NKZg9pEFXQWj",
    "pycharm": {}
   },
   "source": [
    "# Parte 1: Explorar los datos"
   ]
  },
  {
   "cell_type": "markdown",
   "metadata": {
    "hidden": true,
    "id": "wjW5R_p5XQWj",
    "pycharm": {}
   },
   "source": [
    "Usaremos el **Wine Dataset**, que viene en **scikit-learn**. Ejecutaremos la siguiente línea de código para importar la librería que nos permitirá cargarlo."
   ]
  },
  {
   "cell_type": "code",
   "execution_count": 2,
   "metadata": {
    "ExecuteTime": {
     "end_time": "2020-09-28T01:11:26.464733Z",
     "start_time": "2020-09-28T01:11:25.755057Z"
    },
    "hidden": true,
    "id": "QrBP5aiSXQWk",
    "pycharm": {}
   },
   "outputs": [],
   "source": [
    "from sklearn.datasets import load_wine"
   ]
  },
  {
   "cell_type": "markdown",
   "metadata": {
    "heading_collapsed": true,
    "hidden": true,
    "id": "B3b92IPxXQWn",
    "pycharm": {}
   },
   "source": [
    "## Pregunta 1.1\n",
    "\n",
    "Cargue los datos e indique lo siguiente:\n",
    "* Tamaño del dataset (cantidad de instancias y atributos). \n",
    "* ¿Cuántas clases hay y cuáles son sus nombres?\n",
    "* ¿Cuántas instancias hay en cada clase?\n",
    "\n",
    "Indique en cada caso cómo obtuvo la respuesta, es decir, adjunte código."
   ]
  },
  {
   "cell_type": "code",
   "execution_count": 3,
   "metadata": {},
   "outputs": [],
   "source": [
    "import pandas as pd"
   ]
  },
  {
   "cell_type": "code",
   "execution_count": 4,
   "metadata": {},
   "outputs": [
    {
     "name": "stdout",
     "output_type": "stream",
     "text": [
      "Cantidad de instancias: 178\n",
      "Cantidad de atributos: 13\n",
      "Características:  ['alcohol', 'malic_acid', 'ash', 'alcalinity_of_ash', 'magnesium', 'total_phenols', 'flavanoids', 'nonflavanoid_phenols', 'proanthocyanins', 'color_intensity', 'hue', 'od280/od315_of_diluted_wines', 'proline']\n",
      "Clases:  ['class_0' 'class_1' 'class_2']\n"
     ]
    }
   ],
   "source": [
    "df = load_wine(as_frame = True)\n",
    "print(\"Cantidad de instancias:\", df.data.shape[0])\n",
    "print(\"Cantidad de atributos:\", df.data.shape[1])\n",
    "print(\"Características: \",df.feature_names)\n",
    "print(\"Clases: \",df.target_names)"
   ]
  },
  {
   "cell_type": "code",
   "execution_count": 5,
   "metadata": {},
   "outputs": [
    {
     "name": "stdout",
     "output_type": "stream",
     "text": [
      "Instancias de la clase 0:  59\n",
      "Instancias de la clase 1:  71\n",
      "Instancias de la clase 2:  48\n"
     ]
    }
   ],
   "source": [
    "print(\"Instancias de la clase 0: \",len(df.frame[df.frame[\"target\"]==0]))\n",
    "print(\"Instancias de la clase 1: \",len(df.frame[df.frame[\"target\"]==1]))\n",
    "print(\"Instancias de la clase 2: \",len(df.frame[df.frame[\"target\"]==2]))"
   ]
  },
  {
   "cell_type": "markdown",
   "metadata": {},
   "source": [
    "### Respuesta:\n",
    "Como se puede ver en el código anterior, el dataset contiene 178 instancias, 13 atributos/características y 3 clases, cuyos nombre son, clase 0, 1 y 2 respectivamente. Asimismo presenta 59 instancias de la clase 0, 71 de la clase 1 y 48 de la clase 2."
   ]
  },
  {
   "cell_type": "markdown",
   "metadata": {
    "heading_collapsed": true,
    "hidden": true,
    "id": "AKH5aB3_XQWs",
    "pycharm": {}
   },
   "source": [
    "## Pregunta 1.2(incompleta)\n",
    "\n",
    "Explique:\n",
    "- ¿Qué hacen las siguientes líneas de código?\n",
    "\n",
    "Lo primero que hace el código es importar el dataset wine de ``sklearn``y transformarlo a un dataframe de ``pandas`` para poder trabajarlo facilmente.\n",
    "\n",
    "- ¿Qué nos muestra este gráfico? \n",
    "\n",
    "El gráfico muestra la distribución de las variables númericas en el dataset. En efecto, realiza ``scatterplots`` de a pares y respecto a su misma variable muestra un histograma.\n",
    "\n",
    "- ¿Cuáles son las principales observaciones que puede obtener sobre los datos a partir de los gráficos?\n",
    "\n",
    "Se puede notar que alcohol, ash, alcalinity_of_ash, y hue tienden a distribuirse de forma normal, mientras que para el caso de la variable color_intesity los datos se encuentra más concentrados a la izquierda, es decir, que la mayor parte de los datos tiene una intensidad del color más baja. Además, se pueden observar las correlaciones entre las distintas variable del dataset, por ejemplo, en el caso de la correlación entre alcohol y color_intensity se puede observar que en general a medida que aumenta la intensidad del color el nivel de alcohol también aumenta, por otro lado, en el caso de las variables color_intensity y hue, se tiene que mientras menor sea la variable color_intesity mayor será la variable hue. También existen casos en donde no se puede observar una correlación claramente, como en los casos de las variables ash y hue o alcohol y hue, ppuesto que los puntos de los gráficos se encuentran más dispersos y no muestran una tendencia clara."
   ]
  },
  {
   "cell_type": "code",
   "execution_count": 6,
   "metadata": {
    "ExecuteTime": {
     "end_time": "2020-09-28T01:11:33.557708Z",
     "start_time": "2020-09-28T01:11:26.485793Z"
    },
    "hidden": true,
    "id": "C-Gxhet_XQWt",
    "pycharm": {
     "is_executing": false
    }
   },
   "outputs": [
    {
     "data": {
      "image/png": "[encoded data removed]",
      "text/plain": [
       "<Figure size 900x900 with 30 Axes>"
      ]
     },
     "metadata": {},
     "output_type": "display_data"
    }
   ],
   "source": [
    "## EJECUTAR ESTE BLOQUE\n",
    "\n",
    "import matplotlib.pyplot as plt\n",
    "import seaborn as sns; sns.set(style=\"ticks\", color_codes=True)\n",
    "import pandas as pd\n",
    "\n",
    "wine = load_wine()\n",
    "data = pd.DataFrame(data=wine['data'], columns=wine['feature_names'])\n",
    "\n",
    "data['target'] = wine['target']\n",
    "data['class'] = data['target'].map(lambda ind: wine['target_names'][ind])\n",
    "\n",
    "g = sns.pairplot(data.iloc[:, [0,2,3,9,10]]) # Parametro kind=\"reg\" agrega una recta\n",
    "plt.show()"
   ]
  },
  {
   "cell_type": "markdown",
   "metadata": {
    "heading_collapsed": true,
    "id": "JXcHtXFUXQW1",
    "pycharm": {}
   },
   "source": [
    "# Parte 2: Entrenar/testear clasificadores"
   ]
  },
  {
   "cell_type": "markdown",
   "metadata": {
    "hidden": true,
    "id": "651JYu7VXQW2",
    "pycharm": {}
   },
   "source": [
    "En esta parte useremos el clasificador **Decision Tree**. Veremos distintas formas de usarlo, y vamos a compararlas utilizando diversas métricas. "
   ]
  },
  {
   "cell_type": "markdown",
   "metadata": {
    "heading_collapsed": true,
    "hidden": true,
    "id": "6HRB6oDBXQW3",
    "pycharm": {}
   },
   "source": [
    "## Pregunta 2.1\n",
    "\n",
    "Usando el siguiente código, complete lo que falta para cargar los datos, entrenar y hacer una predicción empleando el clasificador. Luego, muestre las métricas de **accuracy**, **precision**, **recall** y **f1-score**."
   ]
  },
  {
   "cell_type": "code",
   "execution_count": 7,
   "metadata": {
    "ExecuteTime": {
     "end_time": "2020-09-28T01:11:33.665446Z",
     "start_time": "2020-09-28T01:11:33.559713Z"
    },
    "hidden": true,
    "id": "TIKF6nyJXQW3",
    "pycharm": {}
   },
   "outputs": [
    {
     "name": "stdout",
     "output_type": "stream",
     "text": [
      "              precision    recall  f1-score   support\n",
      "\n",
      "           0       1.00      1.00      1.00        59\n",
      "           1       1.00      1.00      1.00        71\n",
      "           2       1.00      1.00      1.00        48\n",
      "\n",
      "    accuracy                           1.00       178\n",
      "   macro avg       1.00      1.00      1.00       178\n",
      "weighted avg       1.00      1.00      1.00       178\n",
      "\n"
     ]
    }
   ],
   "source": [
    "## RESPUESTA PREGUNTA 2.1\n",
    "\n",
    "from sklearn.tree import DecisionTreeClassifier\n",
    "from sklearn.metrics import accuracy_score\n",
    "from sklearn.metrics import classification_report\n",
    "\n",
    "clf = DecisionTreeClassifier()\n",
    "\n",
    "X = wine.data      ## datos, caracteristicas o features \n",
    "y = wine.target    ## clase para cada instancia anterior\n",
    "\n",
    "# .... COMPLETE ACA\n",
    "clf.fit(X, y) #Entrenamos el modelo con los datos\n",
    "\n",
    "y_pred = clf.predict(X) #Hacemos una predicción con los datos de testeo\n",
    "print(classification_report(y, y_pred)) #mostramos las metrica"
   ]
  },
  {
   "cell_type": "markdown",
   "metadata": {
    "heading_collapsed": true,
    "hidden": true,
    "id": "zsnObGu-XADD"
   },
   "source": [
    "## Pregunta 2.2\n",
    "\n",
    "Explique cada una de las líneas de código de la pregunta 2.1 (omita las líneas que cargan librerías).\n",
    "\n",
    "La primera línea, al objeto clf se le asigna la función DecisionTreeClasifier por temas de simplicidad en la escritura. Luego al objeto \"X\" se le asignan las variables de características de los vinos y el objeto \"y\" son las distintas clases de vinos, las cuales en este caso son 3. Luego con la función \"clf.fit\" se busca entrenar al modelo de árbol de decisión a partir de la data de \"wine\", para luego realizar una predición con los datos, utilizando la función \"clf.predict\" y luego se muestran métricas de rendimiento del modelo, las cuales son accuracy, precision, recall y f1-score."
   ]
  },
  {
   "cell_type": "markdown",
   "metadata": {
    "heading_collapsed": true,
    "hidden": true,
    "id": "pNEQK4DYXQW6",
    "pycharm": {}
   },
   "source": [
    "## Pregunta 2.3\n",
    "\n",
    "De acuerdo a las métricas obtenidas: \n",
    "\n",
    "1. ¿Qué opina sobre las predicciones? \n",
    "\n",
    "Las predicciones son perfectas, aunque no es de extrañar, ya que se utilizaron los mismos datos con los que se entrenó el modelo para realizar las predicciones.\n",
    "\n",
    "2. ¿Recomendaría utilizar este clasificador en una aplicacion para clasificar vinos? ¿Por qué?\n",
    "\n",
    "No, ya que no tenemos cómo saber si el modelo es generalizable, ya que no tenemos datos nuevos(diferentes a los que se utilizó para entrenar el modelo) previamente etiquetados para realizar predicciones y poder analizar las metricas obtenidas.\n",
    "\n",
    "3. ¿Qué problema puede identificar?\n",
    "\n",
    "Podemos notar que caímos en un problema de overfitting, ya que por un lado se entrenó el modelo con el 100% de los datos y luego se utilizaron los mismos para testearlo, por lo que obtuvimos 100% de accuracy. Al realizar esto no tenemos como saber si el modelo funcionará correctamente con datos nuevos."
   ]
  },
  {
   "cell_type": "markdown",
   "metadata": {
    "heading_collapsed": true,
    "hidden": true,
    "id": "ZfTp-Sn3XADF"
   },
   "source": [
    "## CLASIFICADOR 2"
   ]
  },
  {
   "cell_type": "markdown",
   "metadata": {
    "hidden": true,
    "id": "Z4uSWz6fXADG"
   },
   "source": [
    "Ahora lo que haremos será dividir nuestro dataset en 70% entrenar (***training set***) y 30% para testear (***testing set***). Use la función ***train_test_split()*** de *sklearn* y utilice las variables `X_train, X_test, y_train, y_test`."
   ]
  },
  {
   "cell_type": "markdown",
   "metadata": {
    "heading_collapsed": true,
    "hidden": true,
    "id": "K2O9O-2HXADG"
   },
   "source": [
    "## Pregunta 2.4\n",
    "\n",
    "Escriba el código necesario para dividir los datos, entrenar el modelo e indicar el **accuracy**, **precision** y **recall** del clasificador. \n",
    "Entrene usando el ***training set*** y pruebe sobre el ***testing set***, en base a la división 70%-30%, respectivamente \n",
    "\n",
    "**NOTA: para dividir el dataset use el parámetro `stratify=y`.**"
   ]
  },
  {
   "cell_type": "code",
   "execution_count": 76,
   "metadata": {
    "ExecuteTime": {
     "end_time": "2020-09-28T01:11:33.683493Z",
     "start_time": "2020-09-28T01:11:33.667451Z"
    },
    "hidden": true,
    "id": "cYvg3e6nXQW9",
    "pycharm": {}
   },
   "outputs": [
    {
     "name": "stdout",
     "output_type": "stream",
     "text": [
      "              precision    recall  f1-score   support\n",
      "\n",
      "           0       0.88      0.83      0.86        18\n",
      "           1       0.89      0.81      0.85        21\n",
      "           2       0.83      1.00      0.91        15\n",
      "\n",
      "    accuracy                           0.87        54\n",
      "   macro avg       0.87      0.88      0.87        54\n",
      "weighted avg       0.87      0.87      0.87        54\n",
      "\n"
     ]
    }
   ],
   "source": [
    "### Respuesta a pregunta 2.4\n",
    "# ...\n",
    "# Recuerde usar las variables X_train, X_test, y_train, y_test\n",
    "from sklearn.model_selection import train_test_split \n",
    "\n",
    "X_train, X_test, y_train, y_test = train_test_split(X, y, test_size = 0.3, random_state = 30, stratify = y) #Dividimos el dataset, en set de entrenamiento \n",
    "#y set de testing, usamos el 70% de los datos para entrenar y el resto para testear\n",
    "clf.fit(X_train, y_train) #Entrenamos el modelo con los datos respectivos\n",
    "\n",
    "y_pred = clf.predict(X_test) #Hacemos una predicción con los datos de testeo\n",
    "print(classification_report(y_test, y_pred)) #mostramos las metricas, en base a los datos de testeo de y y los predichos\n"
   ]
  },
  {
   "cell_type": "markdown",
   "metadata": {
    "heading_collapsed": true,
    "hidden": true,
    "id": "ynsWofRRXADJ"
   },
   "source": [
    "## Pregunta 2.5\n",
    "\n",
    "Según el resultado obtenido en la pregunta anterior, responda lo siguiente:\n",
    "\n",
    "1. ¿Cuál clasificador tiene peores resultados? ¿Por qué?\n",
    "\n",
    "El último clasificador, porque se utilizaron datos diferentes a los de entrenamiento para evaluar predicciones.\n",
    "\n",
    "2. ¿Considera este clasificador mejor o peor que el anterior? ¿Por qué? (pregunta sobre el modelo, no sobre el método/algoritmo)\n",
    "\n",
    "Mejor, ya que se puede tener un punto de referencia sobre la precisión del modelo, pues el utilizar datos diferentes a los de entrenamiento permite entender si el modelo está aprendiendo y cómo se ve enfrentado a datos nuevos.\n",
    "\n",
    "3. ¿Cuál de las dos formas de entrenar el clasificador prefiere? \n",
    "\n",
    "Obviamente la última, ya que no tiene sentido entrenar un modelo con todos los datos que se tienen a disposición, debido a que nunca vamos a saber si el modelo es generalizable. Pues en la practica nos enfrentaremos a datos nuevos, y la idea detrás de un clasificador es poder utilizarlo en esa situación"
   ]
  },
  {
   "cell_type": "markdown",
   "metadata": {
    "heading_collapsed": true,
    "hidden": true,
    "id": "tL6TPIutXQXD",
    "pycharm": {}
   },
   "source": [
    "## Pregunta 2.6\n",
    "\n",
    "El siguiente código genera una matriz de confusión de los resultados de clasificación de la pregunta 2.4. Ejecute el bloque completo para visualizar el gráfico. Interprete la matriz y comente sobre cada uno de los valores distintos de 0 en la matriz y describa lo que representa."
   ]
  },
  {
   "cell_type": "code",
   "execution_count": 9,
   "metadata": {
    "ExecuteTime": {
     "end_time": "2020-09-28T01:11:33.937783Z",
     "start_time": "2020-09-28T01:11:33.685499Z"
    },
    "hidden": true,
    "id": "dQFr-d1mXADK",
    "scrolled": true
   },
   "outputs": [
    {
     "data": {
      "image/png": "[encoded data removed]",
      "text/plain": [
       "<Figure size 432x288 with 2 Axes>"
      ]
     },
     "metadata": {},
     "output_type": "display_data"
    }
   ],
   "source": [
    "## EJECUTAR ESTE BLOQUE\n",
    "\n",
    "from sklearn.metrics import confusion_matrix\n",
    "from sklearn.utils.multiclass import unique_labels\n",
    "\n",
    "# Compute confusion matrix. By default is not normalized (normalize=None)\n",
    "# If necessary change 'y_pred' according to your variable name\n",
    "cm = confusion_matrix(y_test, y_pred) \n",
    "\n",
    "# Only use the labels that appear in the data\n",
    "classes = wine.target_names[unique_labels(y_test, y_pred)]\n",
    "\n",
    "df = pd.DataFrame(cm, index = classes, columns = classes)\n",
    "\n",
    "g = sns.heatmap(df, annot=True, cmap=\"Blues\")\n",
    "g.set_yticklabels(g.get_yticklabels(), rotation = 0)\n",
    "\n",
    "plt.title('Confusion matrix \\n')\n",
    "plt.xlabel('Predicted label')\n",
    "plt.ylabel('True label')\n",
    "\n",
    "plt.autoscale()"
   ]
  },
  {
   "cell_type": "markdown",
   "metadata": {
    "heading_collapsed": true,
    "hidden": true,
    "id": "tL6TPIutXQXD",
    "pycharm": {}
   },
   "source": [
    "De esta última matriz se observa que de 18 casos de \"class_0\" el modelo predijo que 15 son de esa clase, 2 de \"class_1\" y 1 de \"class_2\". Mientras que de 21 casos de \"class_1\" el modelo predijo que 1 es de \"class_0\", 18 de la clase real y 2 de \"class_2\". Por otro lado, para el caso de \"class_2\", el modelo predijo que todos esos casos corresponden a esa misma clase.\n",
    "En general se observa un buen rendimiento del modelo, ya que logró predicir bien en la mayoría de los casos para las distintas clases."
   ]
  },
  {
   "cell_type": "markdown",
   "metadata": {
    "hidden": true,
    "id": "8nnZ5QTPXADM"
   },
   "source": [
    "## CLASIFICADOR 3"
   ]
  },
  {
   "cell_type": "markdown",
   "metadata": {
    "hidden": true,
    "id": "XmZSQQSJXADN"
   },
   "source": [
    "Para este clasificador utilizaremos Cross-validation. Con cross-validation, el conjunto de entrenamiento se divide en $k$ conjuntos disjuntos; se entrena sobre los datos correspondientes a $k-1$ de éstos, y se evalúa sobre el conjunto restante. Esto se repite $k$ veces, evaluando siempre sobre un conjunto distinto. Teniendo en cuenta el parámetro $k$, a éste método se le llama $k$-fold cross-validation.\n",
    "\n",
    "El código que está a continuación realizará 10-fold cross-validation usando Decision Tree sobre los datos. La forma de estimar el rendimiento del clasificador es, entre otras cosas, calculando el promedio de todos los k-folds.\n",
    "\n",
    "Además se muestra la predición sobre los datos para testear. "
   ]
  },
  {
   "cell_type": "code",
   "execution_count": 74,
   "metadata": {
    "ExecuteTime": {
     "end_time": "2020-09-28T01:11:34.015989Z",
     "start_time": "2020-09-28T01:11:33.939789Z"
    },
    "hidden": true,
    "id": "gJyyPpzxXQXI",
    "pycharm": {}
   },
   "outputs": [
    {
     "name": "stdout",
     "output_type": "stream",
     "text": [
      "Promedio Precision: 0.8904304954304954\n",
      "Promedio Recall: 0.8668253968253969\n",
      "Promedio F1-score: 0.8564234675999381\n",
      "Promedio Accucary: 0.8594771241830065\n"
     ]
    }
   ],
   "source": [
    "## EJECUTAR ESTE BLOQUE\n",
    "\n",
    "from sklearn.model_selection import cross_validate\n",
    "import numpy as np\n",
    "\n",
    "scoring = ['precision_macro', 'recall_macro', 'accuracy', 'f1_macro']\n",
    "cv_results = cross_validate(clf, X, y, cv = 10, scoring = scoring, return_train_score= True)\n",
    "print('Promedio Precision:', np.mean(cv_results['test_precision_macro']))\n",
    "print('Promedio Recall:', np.mean(cv_results['test_recall_macro']))\n",
    "print('Promedio F1-score:', np.mean(cv_results['test_f1_macro']))\n",
    "print('Promedio Accucary:', np.mean(cv_results['test_accuracy']))\n",
    "\n",
    "#Si quisieramos mostrar el resultado de cada k-fold, deberiamos quitar la \n",
    "#funcion np.mean la cual retorna el promedio. Esto mostraría una lista con el resultado de cada fold"
   ]
  },
  {
   "cell_type": "markdown",
   "metadata": {
    "hidden": true,
    "id": "U6_ceSH0XQXK",
    "pycharm": {}
   },
   "source": [
    "## Pregunta 2.7\n",
    "\n",
    "- ¿Qué indican los resultados obtenidos? \n",
    "Los resultados indican distintas métricas de rendimiento del modelo, a continuación, se describe cada una de estas:\n",
    "\n",
    "**Promedio Precisión**: indica en promedio la calidad del modelo de predicción, en este caso, el modelo predice con 85% de precisión los resultados, es decir, que el 85% de la veces en promedio la predicción va a ser correcta.\n",
    "\n",
    "**Promedio Recall**: es una métrica de exhaustividad del modelo, indica la cantidad que el modelo es capaz de identificar, en este caso, el modelo es capaz de identificar en promedio el 86% de los casos.\n",
    "\n",
    "**Promedio F1-score**: este parámetro combina las métricas de precisión y recall, es decir, asgina la misma importancia a la precisión y exhaustividad del modelo.\n",
    "\n",
    "**Promedio Accuracy**: esta métrica indica el porcentaje de casos en que el modelo ha acertado, en este caso, en promedio el modelo acertó un 85% de las veces.\n",
    "\n",
    "- Compare los valores de las métricas con respecto a lo obtenido en la pregunta 2.4 y comente en qué difieren y por qué.\n",
    "\n",
    "La principal diferencia es que en la pregunta 2.4 el modelo se entrena 1 sóla vez(Holdout), dividiendo los datos en 70% para entrenar y 30% para testear. En cambio usando 10-fold cross-validation lo que se hace es dividir el dataset en 10 conjuntos disjuntos, donde se utilizan 9 para entrenar y 1 para testear. Esto se repite 10 veces de forma que todos los conjuntos son utilizados tanto para entrenar como para testear.\n",
    "\n",
    "Las diferencias en los resultados son por lo comentado anteriormente ya que en cross-valitation se promedian las metricas de los k entrenamientos. En cambio en Holdout(2.4) los resultados son directos.\n",
    "\n",
    "- ¿Qué beneficios tiene emplear cross-validation?\n",
    "\n",
    "Uno de los beneficios es que se utilizan todos los datos tanto para entrenar como para testear y se evita dejar dejar datos fuera del entrentamiento que pudieran sesgar los resultados."
   ]
  },
  {
   "cell_type": "markdown",
   "metadata": {
    "heading_collapsed": true,
    "id": "LCJ9w1GfXQXL",
    "pycharm": {}
   },
   "source": [
    "# Parte 3: Comparar clasificadores"
   ]
  },
  {
   "cell_type": "markdown",
   "metadata": {
    "hidden": true,
    "id": "XqPvhC1XXADR"
   },
   "source": [
    "Una de las principales tareas en enfoques supervisados es evaluar diferentes clasificadores y encontrar el mejor rendimiento de alguno de ellos. Por ejemplo, si tenemos dos (o más) clasificadores y queremos compararlos entre sí, nos interesa responder: *¿Cuál de los clasificadores es el mejor?* \n",
    "Para responder esta pregunta, no existe una única solución. \n",
    "\n",
    "Lo que haremos a continuación será ejecutar diferentes clasificadores y compararlos en base a las métricas de Precision, Recall y F1-score."
   ]
  },
  {
   "cell_type": "markdown",
   "metadata": {
    "id": "KbremqiYyTNF"
   },
   "source": [
    "### PREGUNTA 3.1"
   ]
  },
  {
   "cell_type": "markdown",
   "metadata": {
    "hidden": true,
    "id": "c9ohYCUFXADR"
   },
   "source": [
    "\n",
    "Para realizar la evaluación de distintos clasificadores, vamos a crear la función `run_classifier()`, la cual evalúa un clasificador `clf` recibido como parámetro, un dataset `X,y` (features y target) y un número de tests llamado `num_test`. Esta función almacena y retorna los valores de precision, recall y f1-score en la variable `metrics` además de los resultados de predicción.\n",
    "\n",
    "En base a lo anterior, incluya las sentencias que ajusten el modelo junto a su correspondiente predicción sobre los datos. **No use cross-validation ni tampoco el parámetro `random_state`.**\n",
    "\n"
   ]
  },
  {
   "cell_type": "code",
   "execution_count": 79,
   "metadata": {
    "ExecuteTime": {
     "end_time": "2020-09-28T01:11:34.028494Z",
     "start_time": "2020-09-28T01:11:34.018999Z"
    },
    "hidden": true,
    "id": "TndzyqreXADS"
   },
   "outputs": [],
   "source": [
    "### COMPLETAR ESTE CÓDIGO\n",
    "\n",
    "## run_classifier recibe un clasificador y un dataset (X, y)\n",
    "## y opcionalmente la cantidad de resultados que se quiere obtener del clasificador\n",
    "\n",
    "from sklearn.metrics import f1_score, recall_score, precision_score\n",
    "from sklearn.model_selection import train_test_split\n",
    "import numpy as np\n",
    "\n",
    "def run_classifier(clf, X, y, num_tests=100):\n",
    "    metrics = {'f1-score': [], 'precision': [], 'recall': []}\n",
    "    \n",
    "    for _ in range(num_tests):\n",
    "        X_train, X_test, y_train, y_test = train_test_split(X, y, test_size=.30)\n",
    "        ### INICIO COMPLETAR ACÁ \n",
    "        clf.fit(X_train, y_train) #Entrenamos el modelo con los datos respectivos\n",
    "        predictions = clf.predict(X_test) \n",
    "        #### TIP: en base a los set de entrenamiento, genere la variable 'predictions' \n",
    "        #### que contiene las predicciones del modelo\n",
    "        ### FIN COMPLETAR ACÁ\n",
    "        metrics['y_pred'] = predictions\n",
    "        metrics['f1-score'].append(f1_score(y_test, predictions)) \n",
    "        metrics['recall'].append(recall_score(y_test, predictions))\n",
    "        metrics['precision'].append(precision_score(y_test, predictions))\n",
    "    \n",
    "    return metrics"
   ]
  },
  {
   "cell_type": "markdown",
   "metadata": {
    "hidden": true,
    "id": "VjXFx9xIXADU"
   },
   "source": [
    "Luego de completar el código anterior, ejecute el siguiente bloque para comparar distintos clasificadores. \n",
    "Usaremos un **dataset de cáncer de mamas** para evaluar. La información del dataset se puede encontrar en el siguiente link: https://scikit-learn.org/stable/modules/generated/sklearn.datasets.load_breast_cancer.html"
   ]
  },
  {
   "cell_type": "code",
   "execution_count": 78,
   "metadata": {
    "ExecuteTime": {
     "end_time": "2020-09-28T01:11:37.747387Z",
     "start_time": "2020-09-28T01:11:34.031505Z"
    },
    "hidden": true,
    "id": "-P2TfM7_XADU"
   },
   "outputs": [
    {
     "name": "stdout",
     "output_type": "stream",
     "text": [
      "----------------\n",
      "Resultados para clasificador:  Base Dummy\n",
      "Precision promedio: 0.6233749477108375\n",
      "Recall promedio: 0.634751115909561\n",
      "F1-score promedio: 0.6276405266865173\n",
      "----------------\n",
      "\n",
      "\n",
      "----------------\n",
      "Resultados para clasificador:  Decision Tree\n",
      "Precision promedio: 0.9423352543284335\n",
      "Recall promedio: 0.9491033961574677\n",
      "F1-score promedio: 0.9453481365538811\n",
      "----------------\n",
      "\n",
      "\n",
      "----------------\n",
      "Resultados para clasificador:  Gaussian Naive Bayes\n",
      "Precision promedio: 0.939394079800777\n",
      "Recall promedio: 0.9659034410366735\n",
      "F1-score promedio: 0.9522824962178436\n",
      "----------------\n",
      "\n",
      "\n",
      "----------------\n",
      "Resultados para clasificador:  KNN\n",
      "Precision promedio: 0.9319313930731444\n",
      "Recall promedio: 0.964755368602201\n",
      "F1-score promedio: 0.9478484738009165\n",
      "----------------\n",
      "\n",
      "\n",
      "----------------\n",
      "Resultados para clasificador:  Support Vector Machines\n",
      "Precision promedio: 0.88619811266271\n",
      "Recall promedio: 0.9828130500895884\n",
      "F1-score promedio: 0.931719200131949\n",
      "----------------\n",
      "\n",
      "\n"
     ]
    }
   ],
   "source": [
    "## ejecutar este código\n",
    "\n",
    "from sklearn.datasets import load_breast_cancer\n",
    "from sklearn.dummy import DummyClassifier\n",
    "from sklearn.tree import DecisionTreeClassifier\n",
    "from sklearn.naive_bayes import GaussianNB  # naive bayes\n",
    "from sklearn.neighbors import KNeighborsClassifier\n",
    "from sklearn.svm import SVC  # support vector machine classifier\n",
    "\n",
    "bc = load_breast_cancer()    # dataset cancer de mamas\n",
    "X = bc.data\n",
    "y = bc.target\n",
    "\n",
    "c0 = (\"Base Dummy\", DummyClassifier(strategy='stratified'))\n",
    "c1 = (\"Decision Tree\", DecisionTreeClassifier(max_depth=5))\n",
    "c2 = (\"Gaussian Naive Bayes\", GaussianNB())\n",
    "c3 = (\"KNN\", KNeighborsClassifier(n_neighbors=10))\n",
    "c4 = (\"Support Vector Machines\", SVC())\n",
    "\n",
    "classifiers = [c0, c1, c2, c3, c4]\n",
    "\n",
    "results = {}\n",
    "for name, clf in classifiers:\n",
    "    metrics = run_classifier(clf, X, y)   # hay que implementarla en el bloque anterior.\n",
    "    results[name] = metrics\n",
    "    print(\"----------------\")\n",
    "    print(\"Resultados para clasificador: \", name) \n",
    "    print(\"Precision promedio:\", np.array(metrics['precision']).mean())\n",
    "    print(\"Recall promedio:\", np.array(metrics['recall']).mean())\n",
    "    print(\"F1-score promedio:\", np.array(metrics['f1-score']).mean())\n",
    "    print(\"----------------\\n\\n\")  "
   ]
  },
  {
   "cell_type": "markdown",
   "metadata": {
    "id": "XHJqBEudcAv_"
   },
   "source": [
    "## Pregunta 3.2\n"
   ]
  },
  {
   "cell_type": "markdown",
   "metadata": {
    "id": "DArUyVkub9l3"
   },
   "source": [
    "Explique cómo escoge un árbol de decisión el atributo raíz.\n",
    "\n",
    "La idea es que un árbol de decisión sea lo más pequeño posible para hacer predicciones más correcta, entonces, para escoger el nodo raíz se debe mirar aquella variable o criterio que genere nodos lo más puros posibles, es decir, que las decisiones a partir de los datos sean lo más homogéneas posible.\n",
    "Uno de los criterios más conocido es el de *information gain*, en donde se escoge el nodo que sea más puro en promedio considerando los distintos subconjuntos de los datos.\n",
    "Se utiliza el cálculo de la entropía para cada variable con el fin de cuantificar la información, luego se calcula la esperanza para la variable y con este valor se puede calcular el criterio de *information gain* para decidir cual variable elegir como nodo raíz. De esta misma forma iterativa, se pueden decidir cuáles van siendo los distintos nodos en los distintos niveles."
   ]
  },
  {
   "cell_type": "markdown",
   "metadata": {
    "id": "XwyJoIixcMbP"
   },
   "source": [
    "## Pregunta 3.3"
   ]
  },
  {
   "cell_type": "markdown",
   "metadata": {
    "id": "Y4WI4GyZcNLP"
   },
   "source": [
    "Explique el problema de optimización que resuelve una SVM lineal.\n",
    "\n"
   ]
  },
  {
   "cell_type": "markdown",
   "metadata": {
    "hidden": true,
    "id": "mcdnXXH6XADX"
   },
   "source": [
    "## Pregunta 3.4\n",
    "\n",
    "Analizando los resultados obtenidos de cada clasificador, y basándose en las métricas calculadas. ¿Cuál es el mejor clasificador? ¿Qué métricas observó para tomar esa decisión y por qué? considerando el problema que aborda. Fundamente su respuesta."
   ]
  },
  {
   "cell_type": "markdown",
   "metadata": {
    "hidden": true,
    "id": "S3IArx9qXADX"
   },
   "source": [
    "## Pregunta 3.5\n",
    "\n",
    "Un consultor en minería de datos tiene la siguiente estrategia al momento de enfrentar un problema de clasificación: probar todos los modelos posibles hasta encontrar uno que tenga cero error de entrenamiento. Comente la estrategia del consultor y proponga una estrategia alternativa."
   ]
  },
  {
   "cell_type": "markdown",
   "metadata": {
    "hidden": true,
    "id": "gUR5GMC_XADZ"
   },
   "source": [
    "## Pregunta 3.6\n",
    "\n",
    "El mismo consultor siempre usa la misma métrica para evaluar un modelo: accuracy. Comente la estrategia del consultor y proponga una estrategia alternativa."
   ]
  },
  {
   "cell_type": "markdown",
   "metadata": {
    "ExecuteTime": {
     "end_time": "2020-09-28T00:01:32.541764Z",
     "start_time": "2020-09-28T00:01:32.538758Z"
    },
    "heading_collapsed": true,
    "id": "dcgTjBD7XADZ"
   },
   "source": [
    "# Parte 4: Seleccionar hiperparámetros"
   ]
  },
  {
   "cell_type": "markdown",
   "metadata": {
    "hidden": true,
    "id": "0p7LwuvEXADa"
   },
   "source": [
    "Los hiperparámetros son parámetros que no se aprenden directamente dentro de los estimadores. En scikit-learn se pasan como argumentos al constructor de las clases, por ejemplo cuál kernel usar para Support Vector Classifier, o qué criterio para Decision Tree, etc. Es posible y recomendable buscar en el espacio de hiperparámetros la mejor alternativa.\n",
    "\n",
    "Tenga en cuenta que es común que un pequeño subconjunto de esos parámetros pueda tener un gran impacto en el rendimiento predictivo o de cálculo del modelo, mientras que otros pueden dejar sus valores predeterminados. Se recomienda leer la documentación de la clase de estimador para obtener una mejor comprensión de su comportamiento esperado."
   ]
  },
  {
   "cell_type": "markdown",
   "metadata": {
    "hidden": true,
    "id": "-XnXy9a7XADa"
   },
   "source": [
    "## GridSearchCV\n",
    "\n",
    "Una alternativa para seleccionar hiperparámetros es GridSearchCV, la cual considera exhaustivamente todas las combinaciones de parámetros. GridSearchCV recibe un *estimador*, recibe *param_grid* (un diccionario o una lista de diccionarios con los nombres de los parametros a probar como keys y una lista de los valores a probar), *scoring* una o varias funciones de puntuación (score) para evaluar cada combinación de parametros (opciones válidas: https://scikit-learn.org/stable/modules/model_evaluation.html) y *cv* una extrategia para hacer validación cruzada.\n",
    "\n",
    "El siguiente código muestra cómo seleccionar el número de vecinos y qué pesos otorgar a los vecinos en un clasificador KNN. \n",
    " \n"
   ]
  },
  {
   "cell_type": "code",
   "execution_count": null,
   "metadata": {
    "ExecuteTime": {
     "end_time": "2020-09-28T01:11:38.025125Z",
     "start_time": "2020-09-28T01:11:37.749394Z"
    },
    "hidden": true,
    "id": "mlzgox92XADb"
   },
   "outputs": [],
   "source": [
    "from sklearn.model_selection import GridSearchCV\n",
    "from sklearn.metrics import classification_report\n",
    "\n",
    "X_train, X_test, y_train, y_test = train_test_split(X, y, test_size=.30)\n",
    "\n",
    "#Configure tuned_parameters\n",
    "tuned_parameters = {'n_neighbors': [1, 3, 5, 10], \n",
    "                    'weights': ['uniform','distance']}\n",
    "\n",
    "#set scoring metric\n",
    "score = 'precision' \n",
    "\n",
    "#Construir el clf con GridSearch\n",
    "clf = GridSearchCV(KNeighborsClassifier(), \n",
    "                   param_grid=tuned_parameters, \n",
    "                   cv=5,\n",
    "                   scoring=score)\n",
    "\n",
    "#Entrenar clf\n",
    "clf.fit(X_train, y_train)\n",
    "\n",
    "print(\"Mejor combinación de parámetros:\")\n",
    "print(clf.best_params_)\n",
    " \n",
    "y_true, y_pred = y_test, clf.predict(X_test)\n",
    "\n",
    "print(classification_report(y_true, y_pred))"
   ]
  },
  {
   "cell_type": "markdown",
   "metadata": {
    "hidden": true,
    "id": "BX8g3y2zXADd"
   },
   "source": [
    "## Pregunta 4.1\n",
    "\n",
    "*  a) Realice este mismo proceso para un clasificador DecisionTree y los parametros criterion=['gini','entropy'], max_depth=[2,5,10] y tomando como scoring metric 'f1'. Use cv=6\n",
    "*  b) ¿Qué puede decir de los resultados, con cuáles parámetros los obtuvo (revise que su respuesta concuerde con lo que imprime)? ¿Cuál considera que es la principal ventaja de aplicar GridSearchCV? ¿Considera que es necesario seguir explorando los parámetros?"
   ]
  },
  {
   "cell_type": "code",
   "execution_count": null,
   "metadata": {
    "ExecuteTime": {
     "end_time": "2020-09-28T01:11:38.300858Z",
     "start_time": "2020-09-28T01:11:38.027133Z"
    },
    "hidden": true,
    "id": "vSmxont4XADd"
   },
   "outputs": [],
   "source": [
    "## RESPUESTA A PREGUNTA 4.1 a)\n",
    "\n",
    "X_train, X_test, y_train, y_test = train_test_split(X, y, test_size=.30)\n",
    "\n",
    "## COMPLETE ACÁ\n",
    "\n",
    "##### FIN COMPLETE ACÁ\n",
    "print(\"Mejor combinación de parámetros:\")\n",
    "print(clf.best_params_)\n",
    " \n",
    "y_true, y_pred = y_test, clf.predict(X_test)\n",
    "print(classification_report(y_true, y_pred))"
   ]
  },
  {
   "cell_type": "markdown",
   "metadata": {
    "id": "Rf4BSIjTXADq"
   },
   "source": [
    "# Parte 5: Trabajar con clases desbalanceadas"
   ]
  },
  {
   "cell_type": "markdown",
   "metadata": {
    "id": "W3fb8kQ7XADq"
   },
   "source": [
    "Para mejorar el rendimiento de un clasificador sobre clases desbalanceadas existen varias técnicas. En esta parte, veremos cómo tratar con este problema usando (sub/over) sampling de las clases.\n",
    "\n",
    "(*Nota: Para ejecutar el siguiente bloque es necesaria la librería `pandas` que viene incluida en Anaconda.*)"
   ]
  },
  {
   "cell_type": "code",
   "execution_count": null,
   "metadata": {
    "ExecuteTime": {
     "end_time": "2020-09-28T01:11:38.465037Z",
     "start_time": "2020-09-28T01:11:38.302866Z"
    },
    "id": "lcXqhaBzXADr"
   },
   "outputs": [],
   "source": [
    "import pandas as pd\n",
    "\n",
    "# Cargamos dataset desbalanceado\n",
    "unbalanced_path = 'https://users.dcc.uchile.cl/~hsarmien/mineria/datasets/unbalanced.csv'\n",
    "data = pd.read_csv(unbalanced_path)  # abrimos el archivo csv y lo cargamos en data\n",
    "data.head()"
   ]
  },
  {
   "cell_type": "markdown",
   "metadata": {
    "ExecuteTime": {
     "end_time": "2020-09-28T00:36:22.116129Z",
     "start_time": "2020-09-28T00:36:22.111116Z"
    },
    "id": "QFNMUPd-XADu"
   },
   "source": [
    "Note el desbalance de las clases ejecutando el siguiente código:"
   ]
  },
  {
   "cell_type": "code",
   "execution_count": null,
   "metadata": {
    "ExecuteTime": {
     "end_time": "2020-09-28T01:11:38.476062Z",
     "start_time": "2020-09-28T01:11:38.467038Z"
    },
    "id": "lXrcsboyXADu",
    "outputId": "12e71b35-ccac-43f6-de3f-ab88d704cb52"
   },
   "outputs": [
    {
     "name": "stdout",
     "output_type": "stream",
     "text": [
      "Distribucion de clases original\n"
     ]
    },
    {
     "data": {
      "text/plain": [
       "0    225\n",
       "1    126\n",
       "Name: Class, dtype: int64"
      ]
     },
     "execution_count": 13,
     "metadata": {
      "tags": []
     },
     "output_type": "execute_result"
    }
   ],
   "source": [
    "print(\"Distribucion de clases original\")\n",
    "data['Class'].value_counts()"
   ]
  },
  {
   "cell_type": "markdown",
   "metadata": {
    "id": "nlMr6-9GXADx"
   },
   "source": [
    "Antes de hacer algo para tratar el desbalance entre las clases primero debemos dividir en train-test."
   ]
  },
  {
   "cell_type": "code",
   "execution_count": null,
   "metadata": {
    "ExecuteTime": {
     "end_time": "2020-09-28T01:11:38.496117Z",
     "start_time": "2020-09-28T01:11:38.478068Z"
    },
    "id": "Qr7JzTG-XADy"
   },
   "outputs": [],
   "source": [
    "data_train, data_test, ytrain, ytest = train_test_split(data, data['Class'], test_size=0.3, stratify=data['Class'])"
   ]
  },
  {
   "cell_type": "markdown",
   "metadata": {
    "id": "NOcCYt0QXAD0"
   },
   "source": [
    "Así queda la proporción de clases en el train después de dividir en train-test."
   ]
  },
  {
   "cell_type": "code",
   "execution_count": null,
   "metadata": {
    "ExecuteTime": {
     "end_time": "2020-09-28T01:11:38.507145Z",
     "start_time": "2020-09-28T01:11:38.499125Z"
    },
    "id": "Xzkc7FtJXAD1",
    "outputId": "bc7ed899-a49f-4b53-a771-1176d904d394"
   },
   "outputs": [
    {
     "data": {
      "text/plain": [
       "0    157\n",
       "1     88\n",
       "Name: Class, dtype: int64"
      ]
     },
     "execution_count": 15,
     "metadata": {
      "tags": []
     },
     "output_type": "execute_result"
    }
   ],
   "source": [
    "ytrain.value_counts()"
   ]
  },
  {
   "cell_type": "markdown",
   "metadata": {
    "id": "q_X5CY14XAD3"
   },
   "source": [
    "Ahora, usando el dataset anterior, aplicaremos **oversampling** y **subsampling** al train para que queden balanceados. Ejecute el siguiente código y note ahora que las clases están balanceadas. "
   ]
  },
  {
   "cell_type": "code",
   "execution_count": null,
   "metadata": {
    "ExecuteTime": {
     "end_time": "2020-09-28T01:11:38.534218Z",
     "start_time": "2020-09-28T01:11:38.510154Z"
    },
    "id": "WpXH_EZkXAD4",
    "outputId": "c4e82551-890f-4830-8392-7d8f4e847057"
   },
   "outputs": [
    {
     "name": "stdout",
     "output_type": "stream",
     "text": [
      "Distribución de clases usando (over/sub) sampling\n",
      "\n",
      "Data oversampled on class '1'\n",
      "1    157\n",
      "0    157\n",
      "Name: Class, dtype: int64\n",
      "\n",
      "Data subsampled on class '0'\n",
      "1    88\n",
      "0    88\n",
      "Name: Class, dtype: int64\n"
     ]
    }
   ],
   "source": [
    "import numpy as np\n",
    "\n",
    "print(\"Distribución de clases usando (over/sub) sampling\")\n",
    "print()\n",
    "\n",
    "data_train = data_train.reset_index(drop=True)\n",
    "\n",
    "# oversampling sobre la clase 1\n",
    "idx = np.random.choice(data_train[data_train['Class'] == 1].index, size=69)\n",
    "data_oversampled = pd.concat([data_train, data_train.iloc[idx]])\n",
    "print(\"Data oversampled on class '1'\")\n",
    "print(data_oversampled['Class'].value_counts())\n",
    "print()\n",
    "\n",
    "\n",
    "# subsampling sobre la clase 0\n",
    "idx = np.random.choice(data_train.loc[data_train.Class == 0].index, size=69, replace=False)\n",
    "data_subsampled = data_train.drop(data_train.iloc[idx].index)\n",
    "print(\"Data subsampled on class '0'\")\n",
    "print(data_subsampled['Class'].value_counts())"
   ]
  },
  {
   "cell_type": "markdown",
   "metadata": {
    "id": "lNRoMB4bXAD6"
   },
   "source": [
    "## Pregunta 5. 1\n",
    "\n",
    "¿Por qué aplicar (sub/over) sampling de las clases sobre el conjunto de entrenamiento en lugar de aplicarlo sobre el dataset completo?"
   ]
  },
  {
   "cell_type": "markdown",
   "metadata": {
    "id": "urh4G7FhXAD6"
   },
   "source": [
    "**Nota:** *Librerías como `imblearn` son muy útiles para balancear los datos.*"
   ]
  },
  {
   "cell_type": "markdown",
   "metadata": {
    "id": "AWA7_lHxXAD7"
   },
   "source": [
    "Vamos a entrenar un árbol de decisión (`DecisionTreeClassifier`) sobre los 3 datasets por separado (**original**, con **oversampling** y con **subsampling**) y luego comparamos los resultados usando alguna métrica de evaluación.\n",
    "\n",
    "Ejecute el siguiente bloque para cargar los datos:"
   ]
  },
  {
   "cell_type": "code",
   "execution_count": null,
   "metadata": {
    "ExecuteTime": {
     "end_time": "2020-09-28T01:11:38.550261Z",
     "start_time": "2020-09-28T01:11:38.536222Z"
    },
    "id": "O5I5iZDoXAD7"
   },
   "outputs": [],
   "source": [
    "## ejecutar este código para preparar los datos\n",
    "from sklearn.metrics import classification_report\n",
    "\n",
    "# Preparando los data frames para ser compatibles con sklearn\n",
    "\n",
    "# datos test (mismo para todos los conjuntos de entrenamiento)\n",
    "X_test = data_test[data_train.columns[:-1]] # todo hasta la penultima columna\n",
    "y_test = data_test[data_train.columns[-1]]  # la última columna\n",
    "\n",
    "# datos entrenamiento \"originales\"\n",
    "X_orig = data_train[data_train.columns[:-1]] \n",
    "y_orig = data_train[data_train.columns[-1]] \n",
    "\n",
    "# datos entrenamiento \"oversampleados\" \n",
    "X_over = data_oversampled[data_train.columns[:-1]]\n",
    "y_over = data_oversampled[data_train.columns[-1]]\n",
    "\n",
    "# datos entrenamiento \"subsampleados\"\n",
    "X_subs = data_subsampled[data_train.columns[:-1]]\n",
    "y_subs = data_subsampled[data_train.columns[-1]]"
   ]
  },
  {
   "cell_type": "markdown",
   "metadata": {
    "id": "3d4EzFI_XAD8"
   },
   "source": [
    "A continuación, se ejecuta el clasificador en cada uno de los tres casos, usando como datos de entrada lo del bloque anterior. Para cada caso se entrena con el dataset correspondiente y se evalúa con el conjunto de test (el mismo para los tres casos) obtenido con train_test_split sobre los datos originales. \n",
    "\n",
    "Se muestra Precision, Recall y F1-score."
   ]
  },
  {
   "cell_type": "code",
   "execution_count": null,
   "metadata": {
    "ExecuteTime": {
     "end_time": "2020-09-28T01:11:38.601396Z",
     "start_time": "2020-09-28T01:11:38.553269Z"
    },
    "id": "AXu3Hx77XAD9",
    "outputId": "47e6c469-710c-4b20-cd07-cf260a14563c"
   },
   "outputs": [
    {
     "name": "stdout",
     "output_type": "stream",
     "text": [
      "ORIGINAL::::::::::\n",
      "              precision    recall  f1-score   support\n",
      "\n",
      "           0       0.92      0.96      0.94        68\n",
      "           1       0.91      0.84      0.88        38\n",
      "\n",
      "    accuracy                           0.92       106\n",
      "   macro avg       0.91      0.90      0.91       106\n",
      "weighted avg       0.92      0.92      0.91       106\n",
      "\n",
      "OVERSAMPLING::::::::::\n",
      "              precision    recall  f1-score   support\n",
      "\n",
      "           0       0.93      0.96      0.94        68\n",
      "           1       0.92      0.87      0.89        38\n",
      "\n",
      "    accuracy                           0.92       106\n",
      "   macro avg       0.92      0.91      0.92       106\n",
      "weighted avg       0.92      0.92      0.92       106\n",
      "\n",
      "SUBSAMPLING::::::::::\n",
      "              precision    recall  f1-score   support\n",
      "\n",
      "           0       0.90      0.96      0.93        68\n",
      "           1       0.91      0.82      0.86        38\n",
      "\n",
      "    accuracy                           0.91       106\n",
      "   macro avg       0.91      0.89      0.89       106\n",
      "weighted avg       0.91      0.91      0.90       106\n",
      "\n"
     ]
    }
   ],
   "source": [
    "from sklearn.tree import DecisionTreeClassifier\n",
    "from sklearn.model_selection import train_test_split\n",
    "\n",
    "## Pasos:\n",
    "##  - instanciar el clasificador con DecisionTreeClassifier()\n",
    "##  - entrenar con fit()\n",
    "##  - hacer las predicciones\n",
    "##  - mostrar precision, recall y f1-score con classification report.\n",
    "\n",
    "print(\"ORIGINAL::::::::::\")\n",
    "clf_orig = DecisionTreeClassifier()\n",
    "clf_orig.fit(X_orig, y_orig)\n",
    "pred_orig = clf_orig.predict(X_test)\n",
    "print(classification_report(y_test, pred_orig))\n",
    "\n",
    "print(\"OVERSAMPLING::::::::::\")\n",
    "clf_over = DecisionTreeClassifier()\n",
    "clf_over.fit(X_over, y_over)\n",
    "pred_over = clf_over.predict(X_test)\n",
    "print(classification_report(y_test, pred_over))\n",
    "\n",
    "print(\"SUBSAMPLING::::::::::\")\n",
    "clf_subs = DecisionTreeClassifier()\n",
    "clf_subs.fit(X_subs, y_subs)\n",
    "pred_subs = clf_subs.predict(X_test)\n",
    "print(classification_report(y_test, pred_subs))"
   ]
  },
  {
   "cell_type": "markdown",
   "metadata": {
    "id": "5XkE5zruXAD-"
   },
   "source": [
    "## Pregunta 5.2\n",
    "\n",
    "- Observe los resultados obtenidos por clase con cada conjunto de entrenamiento, se puede observar alguna diferencia importante? \n",
    "- Indique una desventaja de usar oversampling y una desventaja de usar subsampling en clasificación."
   ]
  }
 ],
 "metadata": {
  "anaconda-cloud": {},
  "colab": {
   "collapsed_sections": [],
   "name": "Tarea 2",
   "provenance": []
  },
  "hide_input": false,
  "kernelspec": {
   "display_name": "Python 3",
   "language": "python",
   "name": "python3"
  },
  "language_info": {
   "codemirror_mode": {
    "name": "ipython",
    "version": 3
   },
   "file_extension": ".py",
   "mimetype": "text/x-python",
   "name": "python",
   "nbconvert_exporter": "python",
   "pygments_lexer": "ipython3",
   "version": "3.7.7"
  },
  "toc": {
   "base_numbering": 1,
   "nav_menu": {},
   "number_sections": true,
   "sideBar": true,
   "skip_h1_title": false,
   "title_cell": "Table of Contents",
   "title_sidebar": "Contents",
   "toc_cell": false,
   "toc_position": {},
   "toc_section_display": true,
   "toc_window_display": false
  },
  "varInspector": {
   "cols": {
    "lenName": 16,
    "lenType": 16,
    "lenVar": 40
   },
   "kernels_config": {
    "python": {
     "delete_cmd_postfix": "",
     "delete_cmd_prefix": "del ",
     "library": "var_list.py",
     "varRefreshCmd": "print(var_dic_list())"
    },
    "r": {
     "delete_cmd_postfix": ") ",
     "delete_cmd_prefix": "rm(",
     "library": "var_list.r",
     "varRefreshCmd": "cat(var_dic_list()) "
    }
   },
   "types_to_exclude": [
    "module",
    "function",
    "builtin_function_or_method",
    "instance",
    "_Feature"
   ],
   "window_display": false
  }
 },
 "nbformat": 4,
 "nbformat_minor": 4
}
